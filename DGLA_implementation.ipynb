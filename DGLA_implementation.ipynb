{
  "nbformat": 4,
  "nbformat_minor": 0,
  "metadata": {
    "colab": {
      "name": "DGLA_implementation.ipynb",
      "provenance": []
    },
    "kernelspec": {
      "name": "python3",
      "display_name": "Python 3"
    },
    "language_info": {
      "name": "python"
    }
  },
  "cells": [
    {
      "cell_type": "code",
      "execution_count": 14,
      "metadata": {
        "id": "6aLwr_aD_6yJ"
      },
      "outputs": [],
      "source": [
        "import tensorflow as tf\n",
        "from tensorflow.keras.layers import *\n",
        "from tensorflow.keras.models import Model\n",
        "from tensorflow.keras.losses import CategoricalCrossentropy\n",
        "from tensorflow.keras.optimizers import Adam\n",
        "import numpy as np"
      ]
    },
    {
      "cell_type": "code",
      "source": [
        "class Squash(tf.keras.layers.Layer):\n",
        "\n",
        "  def __init__(self):\n",
        "    super(Squash,self).__init__()\n",
        "\n",
        "  def call(self,inputs):\n",
        "\n",
        "      v_in=tf.norm(inputs,axis=0)\n",
        "\n",
        "      v_out=(v_in)/(v_in**2+1)\n",
        "\n",
        "      v_out=tf.math.multiply(inputs,v_out)\n",
        "\n",
        "      return v_out\n",
        "\n",
        "class CapsuleModule(tf.keras.layers.Layer):\n",
        "\n",
        "  def __init__(self,r,dc,nc):\n",
        "    super(CapsuleModule,self).__init__()\n",
        "    self.r=r\n",
        "    self.dc=dc\n",
        "    self.nc=nc\n",
        "\n",
        "  def get_config(self):\n",
        "    config=super().get_config()\n",
        "    config.update({\n",
        "        \"r1\":self.r,\n",
        "        \"dc1\":self.dc,\n",
        "        \"nc1\":self.nc\n",
        "    })\n",
        "    return config\n",
        "\n",
        "\n",
        "\n",
        "  def build(self,input_shape):\n",
        "    \n",
        "    self.squash=Squash()\n",
        "    self.W=self.add_weight(\n",
        "        name='W1_capsule',\n",
        "        shape=(input_shape[2],self.dc),\n",
        "        trainable=True\n",
        "    )  \n",
        "\n",
        "  def call(self,inputs):\n",
        "    \n",
        "    shape=inputs.shape\n",
        "\n",
        "    b=tf.zeros((shape[1],self.nc))\n",
        "\n",
        "    output=list()\n",
        "\n",
        "    u=tf.matmul(inputs,self.W)\n",
        "\n",
        "    for j in range(self.nc):\n",
        "      \n",
        "      for _ in range(self.r):\n",
        "\n",
        "        c=tf.nn.softmax(b,axis=1)\n",
        "        c=tf.transpose(c)\n",
        "        c_=tf.expand_dims(c[j],axis=0)\n",
        "        s=tf.matmul(c_,u)\n",
        "        g=self.squash(s)\n",
        "        g_=tf.reshape(g,(-1,g.shape[2],g.shape[1]))\n",
        "        g_=tf.matmul(u,g_)\n",
        "        b+=g_\n",
        "        b=b[0]\n",
        "\n",
        "      output.append(g)\n",
        "\n",
        "    return output\n",
        "      \n",
        "\n",
        "\n",
        "\n",
        "class Attention(tf.keras.layers.Layer):\n",
        "\n",
        "  def __init__(self,dc,comodin):\n",
        "    super(Attention,self).__init__()\n",
        "    self.dc=dc\n",
        "    self.comodin=comodin\n",
        "\n",
        "  def get_config(self):\n",
        "    config=super().get_config()\n",
        "    config.update({\n",
        "        \"dc2\":self.dc,\n",
        "        \"comodin1\":self.comodin,\n",
        "    })\n",
        "    return config  \n",
        "    \n",
        "  def build(self,input_shape):\n",
        "\n",
        "    self.squash=Squash()\n",
        "    self.attention=MultiHeadAttention(5,100,100)\n",
        "\n",
        "    self.W=self.add_weight(\n",
        "        name='W1_att',\n",
        "        shape=(self.comodin,self.dc),\n",
        "        trainable=True\n",
        "    )\n",
        "    self.W2=self.add_weight(\n",
        "        name='W2_att',\n",
        "        shape=(self.comodin,self.dc),\n",
        "        trainable=True\n",
        "    )\n",
        "\n",
        "  def call(self,inputs):\n",
        "\n",
        "    Global_l,Vc,Vc=inputs\n",
        "\n",
        "    Att=self.attention(Global_l,tf.matmul(Vc,self.W),tf.matmul(Vc,self.W2))\n",
        "    Att=self.squash(Att)\n",
        "\n",
        "    return Att \n",
        "\n",
        "class ResidualModule(tf.keras.layers.Layer):\n",
        "\n",
        "  def __init__(self,dc,nc,do):\n",
        "    super(ResidualModule,self).__init__()\n",
        "\n",
        "    self.dc=dc\n",
        "    self.nc=nc\n",
        "    self.do=do\n",
        "\n",
        "  def get_config(self):\n",
        "    config=super().get_config()\n",
        "    config.update({\n",
        "        \"dc3\":self.dc,\n",
        "        \"nc2\":self.nc,\n",
        "        \"do1\":self.do\n",
        "    })\n",
        "    return config      \n",
        "\n",
        "  def build(self,input_shape):\n",
        "\n",
        "    self.flatten=Flatten()\n",
        "\n",
        "    self.Wc=self.add_weight(\n",
        "        name='Wc',\n",
        "        shape=(self.nc*self.dc,self.do),\n",
        "        trainable=True\n",
        "    )\n",
        "\n",
        "    self.Wl=self.add_weight(\n",
        "        name='Wl',\n",
        "        shape=(self.nc*self.dc,self.do),\n",
        "        trainable=True\n",
        "    )\n",
        "\n",
        "    self.Wco=self.add_weight(\n",
        "        name='Wco',\n",
        "        shape=(self.nc*self.dc,self.do),\n",
        "        trainable=True\n",
        "    )\n",
        "\n",
        "    self.Wlo=self.add_weight(\n",
        "        name='Wlo',\n",
        "        shape=(self.nc*self.dc,self.do),\n",
        "        trainable=True\n",
        "    )\n",
        "\n",
        "  def call(self,inputs):\n",
        "\n",
        "    Global_l,Global_c,Att_l,Att_c=inputs\n",
        "\n",
        "    Glo_c=tf.matmul(self.flatten(Global_c),self.Wc)\n",
        "    Glo_l=tf.matmul(self.flatten(Global_l),self.Wl)\n",
        "\n",
        "    Att_A=tf.nn.relu(tf.matmul(self.flatten(Att_c),self.Wco)+Glo_l)\n",
        "    Att_B=tf.nn.relu(tf.matmul(self.flatten(Att_l),self.Wlo)+Glo_c)\n",
        "\n",
        "    return Att_A,Att_B \n",
        "\n",
        "class encoding(tf.keras.layers.Layer):\n",
        "\n",
        "  def __init__(self):\n",
        "    super(encoding,self).__init__()\n",
        "\n",
        "  def get_angles(self,pos, i, d_model):\n",
        "\n",
        "    angle_rates = 1 / np.power(10000, (2 * (i//2)) / np.float32(d_model))\n",
        "    return pos * angle_rates\n",
        "    #return np.dot(pos,angle_rates)\n",
        "\n",
        "  def positional_encoding(self,position, d_model):\n",
        "    angle_rads = self.get_angles(np.arange(position)[:, np.newaxis],\n",
        "                            np.arange(d_model)[np.newaxis, :],\n",
        "                            d_model)\n",
        "                            \n",
        "    '''Aplicando la función seno desde posición 0'''\n",
        "    angle_rads[:, 0::2] = np.sin(angle_rads[:, 0::2])\n",
        "  \n",
        "    '''Aplicando la función coseno desde la posición 1'''\n",
        "    angle_rads[:, 1::2] = np.cos(angle_rads[:, 1::2])\n",
        "  \n",
        "    pos_encoding = angle_rads[np.newaxis, ...]\n",
        "  \n",
        "    return tf.cast(pos_encoding, dtype=tf.float32)\n",
        "  \n",
        "  def call(self,inputs):\n",
        "\n",
        "    shape=inputs.shape\n",
        "\n",
        "    return inputs+self.positional_encoding(shape[1],shape[2])\n",
        "\n"
      ],
      "metadata": {
        "id": "wczY8dAkAF2M"
      },
      "execution_count": 28,
      "outputs": []
    },
    {
      "cell_type": "markdown",
      "source": [
        "<font size=3>\n",
        "\n",
        "We are going to use a pre trained embedding layer called Glove. For this, we need to use the ```tf.keras.layers.TextVectorizer``` for the preprocessing. In the files of glove, we'll find models with differents dimensions. We'll use the 300D.\n",
        "\n",
        " \n",
        "\n",
        "</font>"
      ],
      "metadata": {
        "id": "csYCl186Ar4s"
      }
    },
    {
      "cell_type": "code",
      "source": [
        "!wget http://nlp.stanford.edu/data/glove.6B.zip\n",
        "!unzip -q glove.6B.zip"
      ],
      "metadata": {
        "colab": {
          "base_uri": "https://localhost:8080/"
        },
        "id": "WdFEl9OkAFzR",
        "outputId": "ed9f893b-ee61-4403-984d-4105fb0ac3a4"
      },
      "execution_count": 4,
      "outputs": [
        {
          "output_type": "stream",
          "name": "stdout",
          "text": [
            "--2022-04-18 23:29:06--  http://nlp.stanford.edu/data/glove.6B.zip\n",
            "Resolving nlp.stanford.edu (nlp.stanford.edu)... 171.64.67.140\n",
            "Connecting to nlp.stanford.edu (nlp.stanford.edu)|171.64.67.140|:80... connected.\n",
            "HTTP request sent, awaiting response... 302 Found\n",
            "Location: https://nlp.stanford.edu/data/glove.6B.zip [following]\n",
            "--2022-04-18 23:29:06--  https://nlp.stanford.edu/data/glove.6B.zip\n",
            "Connecting to nlp.stanford.edu (nlp.stanford.edu)|171.64.67.140|:443... connected.\n",
            "HTTP request sent, awaiting response... 301 Moved Permanently\n",
            "Location: http://downloads.cs.stanford.edu/nlp/data/glove.6B.zip [following]\n",
            "--2022-04-18 23:29:06--  http://downloads.cs.stanford.edu/nlp/data/glove.6B.zip\n",
            "Resolving downloads.cs.stanford.edu (downloads.cs.stanford.edu)... 171.64.64.22\n",
            "Connecting to downloads.cs.stanford.edu (downloads.cs.stanford.edu)|171.64.64.22|:80... connected.\n",
            "HTTP request sent, awaiting response... 200 OK\n",
            "Length: 862182613 (822M) [application/zip]\n",
            "Saving to: ‘glove.6B.zip’\n",
            "\n",
            "glove.6B.zip        100%[===================>] 822.24M  5.01MB/s    in 2m 41s  \n",
            "\n",
            "2022-04-18 23:31:47 (5.12 MB/s) - ‘glove.6B.zip’ saved [862182613/862182613]\n",
            "\n"
          ]
        }
      ]
    },
    {
      "cell_type": "markdown",
      "source": [
        "<font size=5 color=orange>**Example with kaggle datasets** </font>"
      ],
      "metadata": {
        "id": "yAc3YRzpBvwD"
      }
    },
    {
      "cell_type": "code",
      "source": [
        "!pip install opendatasets"
      ],
      "metadata": {
        "colab": {
          "base_uri": "https://localhost:8080/"
        },
        "id": "YEn3V4yKAFwc",
        "outputId": "d5cab569-bb3b-4676-fbeb-9b0fc41e6ade"
      },
      "execution_count": 5,
      "outputs": [
        {
          "output_type": "stream",
          "name": "stdout",
          "text": [
            "Collecting opendatasets\n",
            "  Downloading opendatasets-0.1.22-py3-none-any.whl (15 kB)\n",
            "Requirement already satisfied: tqdm in /usr/local/lib/python3.7/dist-packages (from opendatasets) (4.64.0)\n",
            "Requirement already satisfied: click in /usr/local/lib/python3.7/dist-packages (from opendatasets) (7.1.2)\n",
            "Requirement already satisfied: kaggle in /usr/local/lib/python3.7/dist-packages (from opendatasets) (1.5.12)\n",
            "Requirement already satisfied: requests in /usr/local/lib/python3.7/dist-packages (from kaggle->opendatasets) (2.23.0)\n",
            "Requirement already satisfied: python-slugify in /usr/local/lib/python3.7/dist-packages (from kaggle->opendatasets) (6.1.1)\n",
            "Requirement already satisfied: python-dateutil in /usr/local/lib/python3.7/dist-packages (from kaggle->opendatasets) (2.8.2)\n",
            "Requirement already satisfied: six>=1.10 in /usr/local/lib/python3.7/dist-packages (from kaggle->opendatasets) (1.15.0)\n",
            "Requirement already satisfied: urllib3 in /usr/local/lib/python3.7/dist-packages (from kaggle->opendatasets) (1.24.3)\n",
            "Requirement already satisfied: certifi in /usr/local/lib/python3.7/dist-packages (from kaggle->opendatasets) (2021.10.8)\n",
            "Requirement already satisfied: text-unidecode>=1.3 in /usr/local/lib/python3.7/dist-packages (from python-slugify->kaggle->opendatasets) (1.3)\n",
            "Requirement already satisfied: idna<3,>=2.5 in /usr/local/lib/python3.7/dist-packages (from requests->kaggle->opendatasets) (2.10)\n",
            "Requirement already satisfied: chardet<4,>=3.0.2 in /usr/local/lib/python3.7/dist-packages (from requests->kaggle->opendatasets) (3.0.4)\n",
            "Installing collected packages: opendatasets\n",
            "Successfully installed opendatasets-0.1.22\n"
          ]
        }
      ]
    },
    {
      "cell_type": "code",
      "source": [
        "import pandas as pd\n",
        "import opendatasets as od\n",
        "od.download('https://www.kaggle.com/datasets/yasserh/imdb-movie-ratings-sentiment-analysis')\n",
        "data=pd.read_csv('/content/imdb-movie-ratings-sentiment-analysis/movie.csv')\n",
        "data=data.dropna()\n",
        "data.head()"
      ],
      "metadata": {
        "colab": {
          "base_uri": "https://localhost:8080/",
          "height": 310
        },
        "id": "9q5tkl7xAFtM",
        "outputId": "254ac7fa-9c4e-4889-ab72-0cbc932232ff"
      },
      "execution_count": 7,
      "outputs": [
        {
          "output_type": "stream",
          "name": "stdout",
          "text": [
            "Please provide your Kaggle credentials to download this dataset. Learn more: http://bit.ly/kaggle-creds\n",
            "Your Kaggle username: omleo1\n",
            "Your Kaggle Key: ··········\n",
            "Downloading imdb-movie-ratings-sentiment-analysis.zip to ./imdb-movie-ratings-sentiment-analysis\n"
          ]
        },
        {
          "output_type": "stream",
          "name": "stderr",
          "text": [
            "100%|██████████| 20.6M/20.6M [00:00<00:00, 65.5MB/s]\n"
          ]
        },
        {
          "output_type": "stream",
          "name": "stdout",
          "text": [
            "\n"
          ]
        },
        {
          "output_type": "execute_result",
          "data": {
            "text/plain": [
              "                                                text  label\n",
              "0  I grew up (b. 1965) watching and loving the Th...      0\n",
              "1  When I put this movie in my DVD player, and sa...      0\n",
              "2  Why do people who do not know what a particula...      0\n",
              "3  Even though I have great interest in Biblical ...      0\n",
              "4  Im a die hard Dads Army fan and nothing will e...      1"
            ],
            "text/html": [
              "\n",
              "  <div id=\"df-442c5a1c-adbe-46ac-b83d-9e3cdbf96474\">\n",
              "    <div class=\"colab-df-container\">\n",
              "      <div>\n",
              "<style scoped>\n",
              "    .dataframe tbody tr th:only-of-type {\n",
              "        vertical-align: middle;\n",
              "    }\n",
              "\n",
              "    .dataframe tbody tr th {\n",
              "        vertical-align: top;\n",
              "    }\n",
              "\n",
              "    .dataframe thead th {\n",
              "        text-align: right;\n",
              "    }\n",
              "</style>\n",
              "<table border=\"1\" class=\"dataframe\">\n",
              "  <thead>\n",
              "    <tr style=\"text-align: right;\">\n",
              "      <th></th>\n",
              "      <th>text</th>\n",
              "      <th>label</th>\n",
              "    </tr>\n",
              "  </thead>\n",
              "  <tbody>\n",
              "    <tr>\n",
              "      <th>0</th>\n",
              "      <td>I grew up (b. 1965) watching and loving the Th...</td>\n",
              "      <td>0</td>\n",
              "    </tr>\n",
              "    <tr>\n",
              "      <th>1</th>\n",
              "      <td>When I put this movie in my DVD player, and sa...</td>\n",
              "      <td>0</td>\n",
              "    </tr>\n",
              "    <tr>\n",
              "      <th>2</th>\n",
              "      <td>Why do people who do not know what a particula...</td>\n",
              "      <td>0</td>\n",
              "    </tr>\n",
              "    <tr>\n",
              "      <th>3</th>\n",
              "      <td>Even though I have great interest in Biblical ...</td>\n",
              "      <td>0</td>\n",
              "    </tr>\n",
              "    <tr>\n",
              "      <th>4</th>\n",
              "      <td>Im a die hard Dads Army fan and nothing will e...</td>\n",
              "      <td>1</td>\n",
              "    </tr>\n",
              "  </tbody>\n",
              "</table>\n",
              "</div>\n",
              "      <button class=\"colab-df-convert\" onclick=\"convertToInteractive('df-442c5a1c-adbe-46ac-b83d-9e3cdbf96474')\"\n",
              "              title=\"Convert this dataframe to an interactive table.\"\n",
              "              style=\"display:none;\">\n",
              "        \n",
              "  <svg xmlns=\"http://www.w3.org/2000/svg\" height=\"24px\"viewBox=\"0 0 24 24\"\n",
              "       width=\"24px\">\n",
              "    <path d=\"M0 0h24v24H0V0z\" fill=\"none\"/>\n",
              "    <path d=\"M18.56 5.44l.94 2.06.94-2.06 2.06-.94-2.06-.94-.94-2.06-.94 2.06-2.06.94zm-11 1L8.5 8.5l.94-2.06 2.06-.94-2.06-.94L8.5 2.5l-.94 2.06-2.06.94zm10 10l.94 2.06.94-2.06 2.06-.94-2.06-.94-.94-2.06-.94 2.06-2.06.94z\"/><path d=\"M17.41 7.96l-1.37-1.37c-.4-.4-.92-.59-1.43-.59-.52 0-1.04.2-1.43.59L10.3 9.45l-7.72 7.72c-.78.78-.78 2.05 0 2.83L4 21.41c.39.39.9.59 1.41.59.51 0 1.02-.2 1.41-.59l7.78-7.78 2.81-2.81c.8-.78.8-2.07 0-2.86zM5.41 20L4 18.59l7.72-7.72 1.47 1.35L5.41 20z\"/>\n",
              "  </svg>\n",
              "      </button>\n",
              "      \n",
              "  <style>\n",
              "    .colab-df-container {\n",
              "      display:flex;\n",
              "      flex-wrap:wrap;\n",
              "      gap: 12px;\n",
              "    }\n",
              "\n",
              "    .colab-df-convert {\n",
              "      background-color: #E8F0FE;\n",
              "      border: none;\n",
              "      border-radius: 50%;\n",
              "      cursor: pointer;\n",
              "      display: none;\n",
              "      fill: #1967D2;\n",
              "      height: 32px;\n",
              "      padding: 0 0 0 0;\n",
              "      width: 32px;\n",
              "    }\n",
              "\n",
              "    .colab-df-convert:hover {\n",
              "      background-color: #E2EBFA;\n",
              "      box-shadow: 0px 1px 2px rgba(60, 64, 67, 0.3), 0px 1px 3px 1px rgba(60, 64, 67, 0.15);\n",
              "      fill: #174EA6;\n",
              "    }\n",
              "\n",
              "    [theme=dark] .colab-df-convert {\n",
              "      background-color: #3B4455;\n",
              "      fill: #D2E3FC;\n",
              "    }\n",
              "\n",
              "    [theme=dark] .colab-df-convert:hover {\n",
              "      background-color: #434B5C;\n",
              "      box-shadow: 0px 1px 3px 1px rgba(0, 0, 0, 0.15);\n",
              "      filter: drop-shadow(0px 1px 2px rgba(0, 0, 0, 0.3));\n",
              "      fill: #FFFFFF;\n",
              "    }\n",
              "  </style>\n",
              "\n",
              "      <script>\n",
              "        const buttonEl =\n",
              "          document.querySelector('#df-442c5a1c-adbe-46ac-b83d-9e3cdbf96474 button.colab-df-convert');\n",
              "        buttonEl.style.display =\n",
              "          google.colab.kernel.accessAllowed ? 'block' : 'none';\n",
              "\n",
              "        async function convertToInteractive(key) {\n",
              "          const element = document.querySelector('#df-442c5a1c-adbe-46ac-b83d-9e3cdbf96474');\n",
              "          const dataTable =\n",
              "            await google.colab.kernel.invokeFunction('convertToInteractive',\n",
              "                                                     [key], {});\n",
              "          if (!dataTable) return;\n",
              "\n",
              "          const docLinkHtml = 'Like what you see? Visit the ' +\n",
              "            '<a target=\"_blank\" href=https://colab.research.google.com/notebooks/data_table.ipynb>data table notebook</a>'\n",
              "            + ' to learn more about interactive tables.';\n",
              "          element.innerHTML = '';\n",
              "          dataTable['output_type'] = 'display_data';\n",
              "          await google.colab.output.renderOutput(dataTable, element);\n",
              "          const docLink = document.createElement('div');\n",
              "          docLink.innerHTML = docLinkHtml;\n",
              "          element.appendChild(docLink);\n",
              "        }\n",
              "      </script>\n",
              "    </div>\n",
              "  </div>\n",
              "  "
            ]
          },
          "metadata": {},
          "execution_count": 7
        }
      ]
    },
    {
      "cell_type": "code",
      "source": [
        "def create_dataset_equality(data,key,train_size=0.8):\n",
        "\n",
        "  '''This is for choosing proportional data'''\n",
        "\n",
        "  classes=data[key].unique()\n",
        "  train_list=[]\n",
        "  test_list=[]\n",
        "\n",
        "  for cl in classes:\n",
        "    df=data[data[key]==cl]\n",
        "    t_size=int(len(df)*train_size)\n",
        "    df_train=df[:t_size]\n",
        "    df_test=df[t_size:]\n",
        "\n",
        "    train_list.append(df_train)\n",
        "    test_list.append(df_test)\n",
        "\n",
        "  train_df=pd.concat(train_list,axis=0)\n",
        "  train_df=train_df.sample(frac=1)\n",
        "  test_df=pd.concat(test_list,axis=0)  \n",
        "  test_df=test_df.sample(frac=1)\n",
        "\n",
        "  return train_df,test_df"
      ],
      "metadata": {
        "id": "ga0_AWnsBjJl"
      },
      "execution_count": 8,
      "outputs": []
    },
    {
      "cell_type": "code",
      "source": [
        "train_df,test_df=create_dataset_equality(data,'label')\n",
        "\n",
        "train_text=tf.convert_to_tensor(train_df['text'].to_list())\n",
        "y_train=tf.keras.utils.to_categorical(train_df['label'].to_numpy(),num_classes=2)\n",
        "\n",
        "test_text=tf.convert_to_tensor(test_df['text'].to_list())\n",
        "y_test=tf.keras.utils.to_categorical(test_df['label'].to_numpy(),num_classes=2)"
      ],
      "metadata": {
        "id": "tQcHth4WBjHX"
      },
      "execution_count": 9,
      "outputs": []
    },
    {
      "cell_type": "code",
      "source": [
        "'''The parameters of our model'''\n",
        "L=100\n",
        "V=300\n",
        "k=12\n",
        "B=100\n",
        "gru_units=B\n",
        "dc=64\n",
        "do=100\n",
        "vocab_size=10000\n",
        "nc=2 #number of classes\n",
        "\n",
        "\n",
        "vectorizer = TextVectorization(max_tokens=vocab_size, output_sequence_length=L)\n",
        "text_ds = tf.data.Dataset.from_tensor_slices(train_text).batch(128)\n",
        "vectorizer.adapt(text_ds)"
      ],
      "metadata": {
        "id": "vTsNUZRzBjEk"
      },
      "execution_count": 20,
      "outputs": []
    },
    {
      "cell_type": "code",
      "source": [
        "x_train=vectorizer(train_text)\n",
        "x_test=vectorizer(test_text)"
      ],
      "metadata": {
        "id": "wuOmi8GqBjCC"
      },
      "execution_count": 21,
      "outputs": []
    },
    {
      "cell_type": "markdown",
      "source": [
        "<font size=5 color=orange>***Creating the model***</font>"
      ],
      "metadata": {
        "id": "GCdvBszJC5AT"
      }
    },
    {
      "cell_type": "markdown",
      "source": [
        "<font size=4 color=pink> ***Implementation of Glove*** </font>"
      ],
      "metadata": {
        "id": "Ql9b0GqDDYgx"
      }
    },
    {
      "cell_type": "code",
      "source": [
        "import os\n",
        "path_to_glove_file = os.path.join(\n",
        "    os.path.expanduser(\"~\"), \"/content/glove.6B.300d.txt\"\n",
        ")\n",
        "\n",
        "embeddings_index = {}\n",
        "with open(path_to_glove_file) as f:\n",
        "    for line in f:\n",
        "        word, coefs = line.split(maxsplit=1)\n",
        "        coefs = np.fromstring(coefs, \"f\", sep=\" \")\n",
        "        embeddings_index[word] = coefs\n",
        "\n",
        "print(\"Found %s word vectors.\" % len(embeddings_index))"
      ],
      "metadata": {
        "colab": {
          "base_uri": "https://localhost:8080/"
        },
        "id": "_Xx6r_nHBi_U",
        "outputId": "68002736-11fa-44d0-fe8b-7608c71f8fb4"
      },
      "execution_count": 22,
      "outputs": [
        {
          "output_type": "stream",
          "name": "stdout",
          "text": [
            "Found 400000 word vectors.\n"
          ]
        }
      ]
    },
    {
      "cell_type": "code",
      "source": [
        "voc = vectorizer.get_vocabulary()\n",
        "word_index = dict(zip(voc, range(len(voc))))"
      ],
      "metadata": {
        "id": "ouHLh4sJC4vk"
      },
      "execution_count": 23,
      "outputs": []
    },
    {
      "cell_type": "code",
      "source": [
        "num_tokens = len(voc) + 2\n",
        "embedding_dim = V\n",
        "hits = 0\n",
        "misses = 0\n",
        "\n",
        "embedding_matrix = np.zeros((num_tokens, embedding_dim))\n",
        "for word, i in word_index.items():\n",
        "    embedding_vector = embeddings_index.get(word)\n",
        "    if embedding_vector is not None:\n",
        "        embedding_matrix[i] = embedding_vector\n",
        "        hits += 1\n",
        "    else:\n",
        "        misses += 1\n",
        "print(\"Converted %d words (%d misses)\" % (hits, misses))"
      ],
      "metadata": {
        "colab": {
          "base_uri": "https://localhost:8080/"
        },
        "id": "S9owGjDKC4te",
        "outputId": "8b524781-fcff-4143-8d54-b36044764d7a"
      },
      "execution_count": 24,
      "outputs": [
        {
          "output_type": "stream",
          "name": "stdout",
          "text": [
            "Converted 9702 words (298 misses)\n"
          ]
        }
      ]
    },
    {
      "cell_type": "code",
      "source": [
        "def built_model(vocab_size,L,V,k,B,gru_units,dc,categories,do):\n",
        "\n",
        "  input=Input((L))\n",
        "  #Feature Extraction Module P1\n",
        "  m=Embedding(num_tokens,V,input_length=L,embeddings_initializer=tf.keras.initializers.Constant(embedding_matrix),\n",
        "              trainable=False)(input)\n",
        "  m=encoding()(m)\n",
        "  m=tf.expand_dims(m,axis=-1)\n",
        "  m=Conv2D(B,\n",
        "           kernel_size=(k,V),\n",
        "           strides=1)(m)\n",
        "  shape=m.shape\n",
        "  M=tf.reshape(m,(-1,shape[1],shape[3]))         \n",
        "\n",
        "  M=Squash()(M)\n",
        "\n",
        "  #Feature Extraction Module P2\n",
        "  \n",
        "  input_lstm=tf.expand_dims(input,axis=-1)\n",
        "  H=Bidirectional(GRU(gru_units,return_sequences=True))(input_lstm)\n",
        "  H=Squash()(H)\n",
        "\n",
        "  #Capsule Module\n",
        "  \n",
        "  Global_l=CapsuleModule(3,dc,categories)(H)#bidirectionalLSTM Global l\n",
        "\n",
        "  Global_l=tf.concat(Global_l,axis=1)\n",
        "  \n",
        "  Global_c=CapsuleModule(3,dc,categories)(M)#N_gram_CNN Global c\n",
        "  \n",
        "  Global_c=tf.concat(Global_c,axis=1)\n",
        "\n",
        "  #Attention module:\n",
        "  \n",
        "  Att_l=Attention(dc,B)((Global_l,M,M))\n",
        "\n",
        "  Att_c=Attention(dc,2*gru_units)((Global_c,H,H))\n",
        "\n",
        "  #Residual Module:\n",
        "\n",
        "  Att_A,Att_B=ResidualModule(dc,categories,do)((Global_l,Global_c,Att_l,Att_c))\n",
        "\n",
        "  V_final=tf.concat((Att_A,Att_B),axis=1)\n",
        "  \n",
        "  #FullyConectedLayers:\n",
        "  V_final=Dropout(0.3)(V_final)\n",
        "  x=Dense(200,activation='relu')(V_final)\n",
        "  x=Dense(200,activation='relu')(x)\n",
        "  output=Dense(categories,activation='softmax',\n",
        "               kernel_regularizer=tf.keras.regularizers.L2(0.0001),\n",
        "               activity_regularizer=tf.keras.regularizers.L2(0.0001))(x)\n",
        " \n",
        "  model=Model(input,output)\n",
        "  \n",
        "  model.summary()\n",
        "\n",
        "  model.compile(loss=tf.keras.losses.CategoricalCrossentropy(),\n",
        "                metrics=['accuracy'],\n",
        "                optimizer=tf.keras.optimizers.Adam(1e-3))\n",
        "\n",
        "  return model\n",
        "\n",
        "model=built_model(vocab_size,L,V,k,B,gru_units,dc,nc,do)"
      ],
      "metadata": {
        "colab": {
          "base_uri": "https://localhost:8080/"
        },
        "id": "fPuuyKqOC4q7",
        "outputId": "11ed314f-3f54-4d4a-8c17-c77ad00ef848"
      },
      "execution_count": 29,
      "outputs": [
        {
          "output_type": "stream",
          "name": "stdout",
          "text": [
            "Model: \"model\"\n",
            "__________________________________________________________________________________________________\n",
            " Layer (type)                   Output Shape         Param #     Connected to                     \n",
            "==================================================================================================\n",
            " input_3 (InputLayer)           [(None, 100)]        0           []                               \n",
            "                                                                                                  \n",
            " embedding_2 (Embedding)        (None, 100, 300)     3000600     ['input_3[0][0]']                \n",
            "                                                                                                  \n",
            " encoding_2 (encoding)          (None, 100, 300)     0           ['embedding_2[0][0]']            \n",
            "                                                                                                  \n",
            " tf.expand_dims_4 (TFOpLambda)  (None, 100, 300, 1)  0           ['encoding_2[0][0]']             \n",
            "                                                                                                  \n",
            " tf.expand_dims_5 (TFOpLambda)  (None, 100, 1)       0           ['input_3[0][0]']                \n",
            "                                                                                                  \n",
            " conv2d_2 (Conv2D)              (None, 89, 1, 100)   360100      ['tf.expand_dims_4[0][0]']       \n",
            "                                                                                                  \n",
            " bidirectional_2 (Bidirectional  (None, 100, 200)    61800       ['tf.expand_dims_5[0][0]']       \n",
            " )                                                                                                \n",
            "                                                                                                  \n",
            " tf.reshape_2 (TFOpLambda)      (None, 89, 100)      0           ['conv2d_2[0][0]']               \n",
            "                                                                                                  \n",
            " squash_5 (Squash)              (None, 100, 200)     0           ['bidirectional_2[0][0]']        \n",
            "                                                                                                  \n",
            " squash_4 (Squash)              (None, 89, 100)      0           ['tf.reshape_2[0][0]']           \n",
            "                                                                                                  \n",
            " capsule_module_4 (CapsuleModul  [(None, 1, 64),     12800       ['squash_5[0][0]']               \n",
            " e)                              (None, 1, 64)]                                                   \n",
            "                                                                                                  \n",
            " capsule_module_5 (CapsuleModul  [(None, 1, 64),     6400        ['squash_4[0][0]']               \n",
            " e)                              (None, 1, 64)]                                                   \n",
            "                                                                                                  \n",
            " tf.concat_4 (TFOpLambda)       (None, 2, 64)        0           ['capsule_module_4[0][0]',       \n",
            "                                                                  'capsule_module_4[0][1]']       \n",
            "                                                                                                  \n",
            " tf.concat_5 (TFOpLambda)       (None, 2, 64)        0           ['capsule_module_5[0][0]',       \n",
            "                                                                  'capsule_module_5[0][1]']       \n",
            "                                                                                                  \n",
            " attention (Attention)          (None, 2, 64)        142364      ['tf.concat_4[0][0]',            \n",
            "                                                                  'squash_4[0][0]',               \n",
            "                                                                  'squash_4[0][0]']               \n",
            "                                                                                                  \n",
            " attention_1 (Attention)        (None, 2, 64)        155164      ['tf.concat_5[0][0]',            \n",
            "                                                                  'squash_5[0][0]',               \n",
            "                                                                  'squash_5[0][0]']               \n",
            "                                                                                                  \n",
            " residual_module (ResidualModul  ((None, 100),       51200       ['tf.concat_4[0][0]',            \n",
            " e)                              (None, 100))                     'tf.concat_5[0][0]',            \n",
            "                                                                  'attention[0][0]',              \n",
            "                                                                  'attention_1[0][0]']            \n",
            "                                                                                                  \n",
            " tf.concat_6 (TFOpLambda)       (None, 200)          0           ['residual_module[0][0]',        \n",
            "                                                                  'residual_module[0][1]']        \n",
            "                                                                                                  \n",
            " dropout (Dropout)              (None, 200)          0           ['tf.concat_6[0][0]']            \n",
            "                                                                                                  \n",
            " dense (Dense)                  (None, 200)          40200       ['dropout[0][0]']                \n",
            "                                                                                                  \n",
            " dense_1 (Dense)                (None, 200)          40200       ['dense[0][0]']                  \n",
            "                                                                                                  \n",
            " dense_2 (Dense)                (None, 2)            402         ['dense_1[0][0]']                \n",
            "                                                                                                  \n",
            "==================================================================================================\n",
            "Total params: 3,871,230\n",
            "Trainable params: 870,630\n",
            "Non-trainable params: 3,000,600\n",
            "__________________________________________________________________________________________________\n"
          ]
        }
      ]
    },
    {
      "cell_type": "code",
      "source": [
        "tf.keras.utils.plot_model(model)"
      ],
      "metadata": {
        "colab": {
          "base_uri": "https://localhost:8080/",
          "height": 1000
        },
        "id": "7b7spGI3C4oW",
        "outputId": "f9106692-d7b0-417d-ebff-ec41ee6c5f4f"
      },
      "execution_count": 30,
      "outputs": [
        {
          "output_type": "execute_result",
          "data": {
            "text/plain": [
              "<IPython.core.display.Image object>"
            ],
            "image/png": "[encoded data removed]"
          },
          "metadata": {},
          "execution_count": 30
        }
      ]
    },
    {
      "cell_type": "code",
      "source": [
        "from tensorflow.keras.callbacks import ModelCheckpoint\n",
        "\n",
        "callbacks=[ModelCheckpoint('DGLA_model.h5',save_best_only=True)]\n",
        "with tf.device('/GPU:0'):\n",
        "  model.fit(x_train,y_train,validation_data=(x_test,y_test),  \n",
        "            epochs=100,batch_size=32,callbacks=callbacks)"
      ],
      "metadata": {
        "id": "X5euF0GNC4lu"
      },
      "execution_count": null,
      "outputs": []
    },
    {
      "cell_type": "code",
      "source": [
        ""
      ],
      "metadata": {
        "id": "dAe3y6PeC4iL"
      },
      "execution_count": null,
      "outputs": []
    }
  ]
}